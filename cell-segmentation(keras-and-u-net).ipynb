{
 "cells": [
  {
   "cell_type": "markdown",
   "metadata": {},
   "source": [
    "## Model architecture"
   ]
  },
  {
   "cell_type": "markdown",
   "metadata": {},
   "source": [
    "Our goal is to perform segmentation first to extract cells from an image. And then perform analysis based on the data we generate.\n",
    "\n",
    "#### Step 1\n",
    "The first task is a binary classification problem. But the data we have is not tagged. So first we will build a model on an existing dataset. The Dataset used here is taken from [https://bbbc.broadinstitute.org/BBBC005/]. Then train a model to get a baseline model which performs cell segmentation. Here the base model we are building is a U-net model.\n",
    "\n",
    "#### Step 2\n",
    "The second step is to use the Train and Validation dataset we have and use the model we build to predict on the these images. This will give us a probable ground dataset.\n",
    "\n",
    "#### Step 3\n",
    "Use the ground dataset we generated in the previous step along with annotation tools to generate a good ground dataset. The performance of the model to be build depends a lot on how accurately the train and validation data is tagged. It should be as close to the original value as possible. \n",
    "\n",
    "The images could be tagged ont heir own without going through the previous steps. But these steps makes it easy for it to be tagged. This will allow the person tagging to focus on correcting the ground dataset. \n",
    "\n",
    "#### Step 4\n",
    "Use this dataset now to train the model which is already trained in step 1. This will help fine tune the model and build a better model.\n",
    "\n",
    "#### Step 5 \n",
    "Once the cells are recognised from the image. Getting the count, area, centroid etc is a matter of simple image processing using opencv.\n",
    "\n",
    "\n",
    "The image could be rgb (3D, 3 channels) or black and white (2D, 1 channel). It's essentially a matrix with values that range between 0 and 255."
   ]
  },
  {
   "cell_type": "markdown",
   "metadata": {},
   "source": [
    "<hr>"
   ]
  },
  {
   "cell_type": "code",
   "execution_count": 1,
   "metadata": {
    "_cell_guid": "79c7e3d0-c299-4dcb-8224-4455121ee9b0",
    "_uuid": "d629ff2d2480ee46fbb7e2d37f6b5fab8052498a"
   },
   "outputs": [],
   "source": [
    "import pandas as pd\n",
    "import numpy as np\n",
    "import os\n",
    "\n",
    "import matplotlib.pyplot as plt\n",
    "%matplotlib inline\n",
    "\n",
    "from skimage.io import imread, imshow\n",
    "from skimage.transform import resize\n",
    "\n",
    "# Don't Show Warning Messages\n",
    "import warnings\n",
    "warnings.filterwarnings('ignore')"
   ]
  },
  {
   "cell_type": "code",
   "execution_count": 2,
   "metadata": {},
   "outputs": [],
   "source": [
    "IMG_HEIGHT = 128\n",
    "IMG_WIDTH = 128\n",
    "IMG_CHANNELS = 1\n",
    "\n",
    "NUM_TEST_IMAGES = 10\n"
   ]
  },
  {
   "cell_type": "markdown",
   "metadata": {},
   "source": [
    "> **Data**<br>\n",
    "\n",
    "> We are given 19,200 images. Of those 1200 have associated masks. We will only use those 1200 images in this kernel. The images and their masks have the same file name but they are stored in separate folders."
   ]
  },
  {
   "cell_type": "markdown",
   "metadata": {},
   "source": [
    "## Put Info Into a Dataframe"
   ]
  },
  {
   "cell_type": "markdown",
   "metadata": {},
   "source": [
    "This dataframe will show the following info:\n",
    "- id's of all images\n",
    "- does the image have a mask?\n",
    "- number of cells on each image\n",
    "- the blur amount that was aded to each image"
   ]
  },
  {
   "cell_type": "code",
   "execution_count": 9,
   "metadata": {
    "_kg_hide-input": true
   },
   "outputs": [],
   "source": [
    "# get a list of files in each folder\n",
    "\n",
    "img_list = os.listdir('BBBC005_v1_images')\n",
    "mask_list = os.listdir('BBBC005_v1_ground_truth/BBBC005_v1_ground_truth')\n",
    "\n",
    "# create a dataframe\n",
    "df_images = pd.DataFrame(img_list, columns=['image_id'])\n",
    "\n",
    "# filter out the non image file that's called .htaccess\n",
    "df_images = df_images[df_images['image_id'] != '.htaccess']\n",
    "\n",
    "\n",
    "\n",
    "# Example file name: SIMCEPImages_A13_C53_F1_s23_w2.TIF\n",
    "\n",
    "\n",
    "# ======================================================\n",
    "# Add a column showing how many cells are on each image\n",
    "# ======================================================\n",
    "\n",
    "def get_num_cells(x):\n",
    "    # split on the _\n",
    "    a = x.split('_')\n",
    "    # choose the third item\n",
    "    b = a[2] # e.g. C53\n",
    "    # choose second item onwards and convert to int\n",
    "    num_cells = int(b[1:])\n",
    "    \n",
    "    return num_cells\n",
    "\n",
    "# create a new column called 'num_cells'\n",
    "df_images['num_cells'] = df_images['image_id'].apply(get_num_cells)\n",
    "\n",
    "\n",
    "# ================================================\n",
    "# Add a column indicating if an image has a mask.\n",
    "# ================================================\n",
    "\n",
    "# Keep in mind images and masks have the same file names.\n",
    "\n",
    "def check_for_mask(x):\n",
    "    if x in mask_list:\n",
    "        return 'yes'\n",
    "    else:\n",
    "        return 'no'\n",
    "    \n",
    "# create a new column called 'has_mask'\n",
    "df_images['has_mask'] = df_images['image_id'].apply(check_for_mask)\n",
    "\n",
    "\n",
    "\n",
    "# ===========================================================\n",
    "# Add a column showing how much blur was added to each image\n",
    "# ===========================================================\n",
    "\n",
    "def get_blur_amt(x):\n",
    "    # split on the _\n",
    "    a = x.split('_')\n",
    "    # choose the third item\n",
    "    b = a[3] # e.g. F1\n",
    "    # choose second item onwards and convert to int\n",
    "    blur_amt = int(b[1:])\n",
    "    \n",
    "    return blur_amt\n",
    "\n",
    "# create a new column called 'blur_amt'\n",
    "df_images['blur_amt'] = df_images['image_id'].apply(get_blur_amt)"
   ]
  },
  {
   "cell_type": "code",
   "execution_count": 11,
   "metadata": {},
   "outputs": [
    {
     "data": {
      "text/html": [
       "<div>\n",
       "<style scoped>\n",
       "    .dataframe tbody tr th:only-of-type {\n",
       "        vertical-align: middle;\n",
       "    }\n",
       "\n",
       "    .dataframe tbody tr th {\n",
       "        vertical-align: top;\n",
       "    }\n",
       "\n",
       "    .dataframe thead th {\n",
       "        text-align: right;\n",
       "    }\n",
       "</style>\n",
       "<table border=\"1\" class=\"dataframe\">\n",
       "  <thead>\n",
       "    <tr style=\"text-align: right;\">\n",
       "      <th></th>\n",
       "      <th>image_id</th>\n",
       "      <th>num_cells</th>\n",
       "      <th>has_mask</th>\n",
       "      <th>blur_amt</th>\n",
       "    </tr>\n",
       "  </thead>\n",
       "  <tbody>\n",
       "    <tr>\n",
       "      <th>0</th>\n",
       "      <td>SIMCEPImages_K12_C48_F32_s19_w1.TIF</td>\n",
       "      <td>48</td>\n",
       "      <td>no</td>\n",
       "      <td>32</td>\n",
       "    </tr>\n",
       "    <tr>\n",
       "      <th>1</th>\n",
       "      <td>SIMCEPImages_H22_C91_F23_s18_w2.TIF</td>\n",
       "      <td>91</td>\n",
       "      <td>no</td>\n",
       "      <td>23</td>\n",
       "    </tr>\n",
       "    <tr>\n",
       "      <th>2</th>\n",
       "      <td>SIMCEPImages_D02_C5_F10_s03_w1.TIF</td>\n",
       "      <td>5</td>\n",
       "      <td>no</td>\n",
       "      <td>10</td>\n",
       "    </tr>\n",
       "    <tr>\n",
       "      <th>3</th>\n",
       "      <td>SIMCEPImages_I06_C23_F26_s08_w1.TIF</td>\n",
       "      <td>23</td>\n",
       "      <td>no</td>\n",
       "      <td>26</td>\n",
       "    </tr>\n",
       "    <tr>\n",
       "      <th>4</th>\n",
       "      <td>SIMCEPImages_K05_C18_F32_s24_w1.TIF</td>\n",
       "      <td>18</td>\n",
       "      <td>no</td>\n",
       "      <td>32</td>\n",
       "    </tr>\n",
       "    <tr>\n",
       "      <th>5</th>\n",
       "      <td>SIMCEPImages_J24_C100_F29_s08_w1.TIF</td>\n",
       "      <td>100</td>\n",
       "      <td>no</td>\n",
       "      <td>29</td>\n",
       "    </tr>\n",
       "    <tr>\n",
       "      <th>6</th>\n",
       "      <td>SIMCEPImages_I16_C66_F26_s24_w1.TIF</td>\n",
       "      <td>66</td>\n",
       "      <td>no</td>\n",
       "      <td>26</td>\n",
       "    </tr>\n",
       "    <tr>\n",
       "      <th>7</th>\n",
       "      <td>SIMCEPImages_J04_C14_F29_s07_w1.TIF</td>\n",
       "      <td>14</td>\n",
       "      <td>no</td>\n",
       "      <td>29</td>\n",
       "    </tr>\n",
       "    <tr>\n",
       "      <th>8</th>\n",
       "      <td>SIMCEPImages_O20_C83_F45_s10_w2.TIF</td>\n",
       "      <td>83</td>\n",
       "      <td>no</td>\n",
       "      <td>45</td>\n",
       "    </tr>\n",
       "    <tr>\n",
       "      <th>9</th>\n",
       "      <td>SIMCEPImages_G16_C66_F20_s04_w1.TIF</td>\n",
       "      <td>66</td>\n",
       "      <td>no</td>\n",
       "      <td>20</td>\n",
       "    </tr>\n",
       "  </tbody>\n",
       "</table>\n",
       "</div>"
      ],
      "text/plain": [
       "                               image_id  num_cells has_mask  blur_amt\n",
       "0   SIMCEPImages_K12_C48_F32_s19_w1.TIF         48       no        32\n",
       "1   SIMCEPImages_H22_C91_F23_s18_w2.TIF         91       no        23\n",
       "2    SIMCEPImages_D02_C5_F10_s03_w1.TIF          5       no        10\n",
       "3   SIMCEPImages_I06_C23_F26_s08_w1.TIF         23       no        26\n",
       "4   SIMCEPImages_K05_C18_F32_s24_w1.TIF         18       no        32\n",
       "5  SIMCEPImages_J24_C100_F29_s08_w1.TIF        100       no        29\n",
       "6   SIMCEPImages_I16_C66_F26_s24_w1.TIF         66       no        26\n",
       "7   SIMCEPImages_J04_C14_F29_s07_w1.TIF         14       no        29\n",
       "8   SIMCEPImages_O20_C83_F45_s10_w2.TIF         83       no        45\n",
       "9   SIMCEPImages_G16_C66_F20_s04_w1.TIF         66       no        20"
      ]
     },
     "execution_count": 11,
     "metadata": {},
     "output_type": "execute_result"
    }
   ],
   "source": [
    "df_images.head(10)"
   ]
  },
  {
   "cell_type": "markdown",
   "metadata": {},
   "source": [
    "## Create a dataframe containing only images that have masks"
   ]
  },
  {
   "cell_type": "markdown",
   "metadata": {},
   "source": [
    "We will only use this dataframe in the rest of this notebook."
   ]
  },
  {
   "cell_type": "code",
   "execution_count": 12,
   "metadata": {},
   "outputs": [
    {
     "data": {
      "text/plain": [
       "(1200, 5)"
      ]
     },
     "execution_count": 12,
     "metadata": {},
     "output_type": "execute_result"
    }
   ],
   "source": [
    "df_masks = df_images[df_images['has_mask'] == 'yes']\n",
    "\n",
    "# create a new column called mask_id that is just a copy of image_id\n",
    "df_masks['mask_id'] = df_masks['image_id']\n",
    "\n",
    "df_masks.shape"
   ]
  },
  {
   "cell_type": "code",
   "execution_count": 13,
   "metadata": {},
   "outputs": [
    {
     "data": {
      "text/html": [
       "<div>\n",
       "<style scoped>\n",
       "    .dataframe tbody tr th:only-of-type {\n",
       "        vertical-align: middle;\n",
       "    }\n",
       "\n",
       "    .dataframe tbody tr th {\n",
       "        vertical-align: top;\n",
       "    }\n",
       "\n",
       "    .dataframe thead th {\n",
       "        text-align: right;\n",
       "    }\n",
       "</style>\n",
       "<table border=\"1\" class=\"dataframe\">\n",
       "  <thead>\n",
       "    <tr style=\"text-align: right;\">\n",
       "      <th></th>\n",
       "      <th>image_id</th>\n",
       "      <th>num_cells</th>\n",
       "      <th>has_mask</th>\n",
       "      <th>blur_amt</th>\n",
       "      <th>mask_id</th>\n",
       "    </tr>\n",
       "  </thead>\n",
       "  <tbody>\n",
       "    <tr>\n",
       "      <th>27</th>\n",
       "      <td>SIMCEPImages_A19_C78_F1_s04_w2.TIF</td>\n",
       "      <td>78</td>\n",
       "      <td>yes</td>\n",
       "      <td>1</td>\n",
       "      <td>SIMCEPImages_A19_C78_F1_s04_w2.TIF</td>\n",
       "    </tr>\n",
       "    <tr>\n",
       "      <th>28</th>\n",
       "      <td>SIMCEPImages_A21_C87_F1_s20_w2.TIF</td>\n",
       "      <td>87</td>\n",
       "      <td>yes</td>\n",
       "      <td>1</td>\n",
       "      <td>SIMCEPImages_A21_C87_F1_s20_w2.TIF</td>\n",
       "    </tr>\n",
       "    <tr>\n",
       "      <th>80</th>\n",
       "      <td>SIMCEPImages_A06_C23_F1_s07_w1.TIF</td>\n",
       "      <td>23</td>\n",
       "      <td>yes</td>\n",
       "      <td>1</td>\n",
       "      <td>SIMCEPImages_A06_C23_F1_s07_w1.TIF</td>\n",
       "    </tr>\n",
       "    <tr>\n",
       "      <th>87</th>\n",
       "      <td>SIMCEPImages_A21_C87_F1_s11_w1.TIF</td>\n",
       "      <td>87</td>\n",
       "      <td>yes</td>\n",
       "      <td>1</td>\n",
       "      <td>SIMCEPImages_A21_C87_F1_s11_w1.TIF</td>\n",
       "    </tr>\n",
       "    <tr>\n",
       "      <th>99</th>\n",
       "      <td>SIMCEPImages_A16_C66_F1_s18_w1.TIF</td>\n",
       "      <td>66</td>\n",
       "      <td>yes</td>\n",
       "      <td>1</td>\n",
       "      <td>SIMCEPImages_A16_C66_F1_s18_w1.TIF</td>\n",
       "    </tr>\n",
       "  </tbody>\n",
       "</table>\n",
       "</div>"
      ],
      "text/plain": [
       "                              image_id  num_cells has_mask  blur_amt  \\\n",
       "27  SIMCEPImages_A19_C78_F1_s04_w2.TIF         78      yes         1   \n",
       "28  SIMCEPImages_A21_C87_F1_s20_w2.TIF         87      yes         1   \n",
       "80  SIMCEPImages_A06_C23_F1_s07_w1.TIF         23      yes         1   \n",
       "87  SIMCEPImages_A21_C87_F1_s11_w1.TIF         87      yes         1   \n",
       "99  SIMCEPImages_A16_C66_F1_s18_w1.TIF         66      yes         1   \n",
       "\n",
       "                               mask_id  \n",
       "27  SIMCEPImages_A19_C78_F1_s04_w2.TIF  \n",
       "28  SIMCEPImages_A21_C87_F1_s20_w2.TIF  \n",
       "80  SIMCEPImages_A06_C23_F1_s07_w1.TIF  \n",
       "87  SIMCEPImages_A21_C87_F1_s11_w1.TIF  \n",
       "99  SIMCEPImages_A16_C66_F1_s18_w1.TIF  "
      ]
     },
     "execution_count": 13,
     "metadata": {},
     "output_type": "execute_result"
    }
   ],
   "source": [
    "df_masks.head()"
   ]
  },
  {
   "cell_type": "markdown",
   "metadata": {},
   "source": [
    "## Create a Test Set"
   ]
  },
  {
   "cell_type": "markdown",
   "metadata": {},
   "source": [
    "Here we will create a test set containing 10 images. Keras will automatically create a validation set during training."
   ]
  },
  {
   "cell_type": "code",
   "execution_count": 14,
   "metadata": {},
   "outputs": [
    {
     "name": "stdout",
     "output_type": "stream",
     "text": [
      "(1190, 5)\n",
      "(10, 5)\n"
     ]
    }
   ],
   "source": [
    "# create a test set\n",
    "df_test = df_masks.sample(NUM_TEST_IMAGES, random_state=101)\n",
    "\n",
    "# Reset the index.\n",
    "# This is so that we can use loc to access mask id's later.\n",
    "df_test = df_test.reset_index(drop=True)\n",
    "\n",
    "# create a list of test images\n",
    "test_images_list = list(df_test['image_id'])\n",
    "\n",
    "\n",
    "# Select only rows that are not part of the test set.\n",
    "# Note the use of ~ to execute 'not in'.\n",
    "df_masks = df_masks[~df_masks['image_id'].isin(test_images_list)]\n",
    "\n",
    "print(df_masks.shape)\n",
    "print(df_test.shape)"
   ]
  },
  {
   "cell_type": "code",
   "execution_count": 15,
   "metadata": {},
   "outputs": [],
   "source": [
    "# ==================================================== #"
   ]
  },
  {
   "cell_type": "markdown",
   "metadata": {},
   "source": [
    "## Inspect one Image and Mask"
   ]
  },
  {
   "cell_type": "markdown",
   "metadata": {},
   "source": [
    "Here we want to find out:\n",
    "\n",
    "- What are the shapes?\n",
    "- Is the image rgb or black and white?\n",
    "\n",
    "We need this info to write the code that will process the images and masks into a format that the model requires."
   ]
  },
  {
   "cell_type": "markdown",
   "metadata": {},
   "source": [
    "## Image"
   ]
  },
  {
   "cell_type": "code",
   "execution_count": 16,
   "metadata": {
    "_kg_hide-input": true
   },
   "outputs": [
    {
     "data": {
      "text/plain": [
       "<matplotlib.image.AxesImage at 0x7f747c52b8e0>"
      ]
     },
     "execution_count": 16,
     "metadata": {},
     "output_type": "execute_result"
    },
    {
     "data": {
      "image/png": "[encoded data removed]",
      "text/plain": [
       "<Figure size 432x288 with 1 Axes>"
      ]
     },
     "metadata": {
      "needs_background": "light"
     },
     "output_type": "display_data"
    }
   ],
   "source": [
    "sample_image = 'SIMCEPImages_A06_C23_F1_s11_w2.TIF'\n",
    "path_image = 'BBBC005_v1_images/' + sample_image\n",
    "\n",
    "# read the image using skimage\n",
    "image = imread(path_image)\n",
    "\n",
    "plt.imshow(image)"
   ]
  },
  {
   "cell_type": "code",
   "execution_count": 17,
   "metadata": {
    "_kg_hide-input": true
   },
   "outputs": [
    {
     "name": "stdout",
     "output_type": "stream",
     "text": [
      "Shape:  (520, 696)\n",
      "Max pixel value:  222\n",
      "Min pixel value:  0\n"
     ]
    }
   ],
   "source": [
    "print('Shape: ', image.shape)\n",
    "print('Max pixel value: ', image.max())\n",
    "print('Min pixel value: ', image.min())"
   ]
  },
  {
   "cell_type": "markdown",
   "metadata": {},
   "source": [
    "## Mask"
   ]
  },
  {
   "cell_type": "code",
   "execution_count": 18,
   "metadata": {
    "_kg_hide-input": true
   },
   "outputs": [
    {
     "data": {
      "text/plain": [
       "<matplotlib.image.AxesImage at 0x7f747c43f130>"
      ]
     },
     "execution_count": 18,
     "metadata": {},
     "output_type": "execute_result"
    },
    {
     "data": {
      "image/png": "[encoded data removed]",
      "text/plain": [
       "<Figure size 432x288 with 1 Axes>"
      ]
     },
     "metadata": {
      "needs_background": "light"
     },
     "output_type": "display_data"
    }
   ],
   "source": [
    "sample_mask = 'SIMCEPImages_A06_C23_F1_s11_w2.TIF'\n",
    "path_mask = 'BBBC005_v1_ground_truth/BBBC005_v1_ground_truth/' + sample_mask\n",
    "\n",
    "# read the mask using skimage\n",
    "mask = imread(path_mask)\n",
    "\n",
    "plt.imshow(mask, cmap='gray')"
   ]
  },
  {
   "cell_type": "code",
   "execution_count": 19,
   "metadata": {
    "_kg_hide-input": true
   },
   "outputs": [
    {
     "name": "stdout",
     "output_type": "stream",
     "text": [
      "Shape:  (520, 696)\n",
      "Max pixel value:  255\n",
      "Min pixel value:  0\n"
     ]
    }
   ],
   "source": [
    "print('Shape: ', mask.shape)\n",
    "print('Max pixel value: ', mask.max())\n",
    "print('Min pixel value: ', mask.min())"
   ]
  },
  {
   "cell_type": "markdown",
   "metadata": {},
   "source": [
    "The image and its associated mask have the same shape. We see that the image is 2D and not 3D. The mask is 2D. The image has pixel values in the range 0 to 255. The mask has pixel values that are either 0 or 255. 0 is black and 255 is white.\n",
    "\n",
    "The model requires this input format:<br>\n",
    "\n",
    "*(num_samples, num_rows, num_columns, num_channels)*\n",
    "\n",
    "Therefore, we will need to use np.expand_dims to add a channel dimension to both the image and the mask.\n",
    "\n",
    "Also, the model expects input images and masks to have the same width and height. We will therefore resize both images and the masks to 128 x 128."
   ]
  },
  {
   "cell_type": "markdown",
   "metadata": {},
   "source": [
    "## Create X_train, Y_train and X_test"
   ]
  },
  {
   "cell_type": "markdown",
   "metadata": {},
   "source": [
    "This processing code is the most important part of this kernel. If you see crazy results during training, like negative loss values - then you've most probably made an error on this step. "
   ]
  },
  {
   "cell_type": "code",
   "execution_count": 20,
   "metadata": {},
   "outputs": [],
   "source": [
    "# Get lists of images and their masks.\n",
    "image_id_list = list(df_masks['image_id'])\n",
    "mask_id_list = list(df_masks['mask_id'])\n",
    "test_id_list = list(df_test['image_id'])\n",
    "\n",
    "# Create empty arrays\n",
    "\n",
    "X_train = np.zeros((len(image_id_list), IMG_HEIGHT, IMG_WIDTH, IMG_CHANNELS), dtype=np.uint8)\n",
    "\n",
    "Y_train = np.zeros((len(image_id_list), IMG_HEIGHT, IMG_WIDTH, 1), dtype=np.bool)\n",
    "\n",
    "X_test = np.zeros((NUM_TEST_IMAGES, IMG_HEIGHT, IMG_WIDTH, IMG_CHANNELS), dtype=np.uint8)\n",
    "\n"
   ]
  },
  {
   "cell_type": "code",
   "execution_count": 22,
   "metadata": {},
   "outputs": [
    {
     "data": {
      "text/plain": [
       "(1190, 128, 128, 1)"
      ]
     },
     "execution_count": 22,
     "metadata": {},
     "output_type": "execute_result"
    }
   ],
   "source": [
    "# X_train\n",
    "\n",
    "\n",
    "for i, image_id in enumerate(image_id_list):\n",
    "    \n",
    "    path_image = 'BBBC005_v1_images/' + image_id\n",
    "    \n",
    "    # read the image using skimage\n",
    "    image = imread(path_image)\n",
    "    \n",
    "    # resize the image\n",
    "    image = resize(image, (IMG_HEIGHT, IMG_WIDTH), mode='constant', preserve_range=True)\n",
    "    \n",
    "    # use np.expand dims to add a channel axis so the shape becomes (IMG_HEIGHT, IMG_WIDTH, 1)\n",
    "    image = np.expand_dims(image, axis=-1)\n",
    "    \n",
    "    # insert the image into X_train\n",
    "    X_train[i] = image\n",
    "    \n",
    "X_train.shape"
   ]
  },
  {
   "cell_type": "code",
   "execution_count": 23,
   "metadata": {},
   "outputs": [
    {
     "data": {
      "text/plain": [
       "(1190, 128, 128, 1)"
      ]
     },
     "execution_count": 23,
     "metadata": {},
     "output_type": "execute_result"
    }
   ],
   "source": [
    "# Y_train\n",
    "\n",
    "\n",
    "for i, mask_id in enumerate(mask_id_list):\n",
    "    \n",
    "    path_mask = 'BBBC005_v1_ground_truth/BBBC005_v1_ground_truth/' + mask_id\n",
    "    \n",
    "    # read the image using skimage\n",
    "    mask = imread(path_mask)\n",
    "    \n",
    "    # resize the image\n",
    "    mask = resize(mask, (IMG_HEIGHT, IMG_WIDTH), mode='constant', preserve_range=True)\n",
    "    \n",
    "    # use np.expand dims to add a channel axis so the shape becomes (IMG_HEIGHT, IMG_WIDTH, 1)\n",
    "    mask = np.expand_dims(mask, axis=-1)\n",
    "    \n",
    "    # insert the image into Y_Train\n",
    "    Y_train[i] = mask\n",
    "\n",
    "Y_train.shape"
   ]
  },
  {
   "cell_type": "code",
   "execution_count": 24,
   "metadata": {},
   "outputs": [
    {
     "data": {
      "text/plain": [
       "(10, 128, 128, 1)"
      ]
     },
     "execution_count": 24,
     "metadata": {},
     "output_type": "execute_result"
    }
   ],
   "source": [
    "# X_test\n",
    "\n",
    "for i, image_id in enumerate(test_id_list):\n",
    "    \n",
    "    path_image = 'BBBC005_v1_images/' + image_id\n",
    "    \n",
    "    # read the image using skimage\n",
    "    image = imread(path_image)\n",
    "    \n",
    "    # resize the image\n",
    "    image = resize(image, (IMG_HEIGHT, IMG_WIDTH), mode='constant', preserve_range=True)\n",
    "    \n",
    "    # use np.expand dims to add a channel axis so the shape becomes (IMG_HEIGHT, IMG_WIDTH, 1)\n",
    "    image = np.expand_dims(image, axis=-1)\n",
    "    \n",
    "    # insert the image into X_test\n",
    "    X_test[i] = image\n",
    "    \n",
    "X_test.shape"
   ]
  },
  {
   "cell_type": "markdown",
   "metadata": {},
   "source": [
    "## Define the Model Architecture"
   ]
  },
  {
   "cell_type": "markdown",
   "metadata": {},
   "source": [
    "We will use the U-Net arhitecture. U-Net is a cnn that was developed for biomedical image segmentation. It was designed to give good results when only a small number of training images are available. It was also designed to run fast.\n",
    "\n",
    "Paper: [U-Net: Convolutional Networks for Biomedical Image Segmentation](https://arxiv.org/abs/1505.04597)<br>\n",
    "Olaf Ronneberger, Philipp Fischer, Thomas Brox\n",
    "\n",
    "Take note that the images are normalized inside the model using a lamda layer."
   ]
  },
  {
   "cell_type": "code",
   "execution_count": 26,
   "metadata": {},
   "outputs": [],
   "source": [
    "from keras.models import Model, load_model\n",
    "from keras.layers import Input\n",
    "from keras.layers.core import Dropout, Lambda\n",
    "from keras.layers.convolutional import Conv2D, Conv2DTranspose\n",
    "from keras.layers.pooling import MaxPooling2D\n",
    "from keras.layers import concatenate\n",
    "from keras.callbacks import EarlyStopping, ModelCheckpoint\n",
    "from keras import backend as K\n",
    "\n",
    "import tensorflow as tf"
   ]
  },
  {
   "cell_type": "code",
   "execution_count": 27,
   "metadata": {
    "_kg_hide-output": true
   },
   "outputs": [
    {
     "name": "stderr",
     "output_type": "stream",
     "text": [
      "2022-09-14 19:02:35.626099: I tensorflow/core/platform/cpu_feature_guard.cc:193] This TensorFlow binary is optimized with oneAPI Deep Neural Network Library (oneDNN) to use the following CPU instructions in performance-critical operations:  AVX2 FMA\n",
      "To enable them in other operations, rebuild TensorFlow with the appropriate compiler flags.\n"
     ]
    },
    {
     "name": "stdout",
     "output_type": "stream",
     "text": [
      "Model: \"model\"\n",
      "__________________________________________________________________________________________________\n",
      " Layer (type)                   Output Shape         Param #     Connected to                     \n",
      "==================================================================================================\n",
      " input_1 (InputLayer)           [(None, 128, 128, 1  0           []                               \n",
      "                                )]                                                                \n",
      "                                                                                                  \n",
      " lambda (Lambda)                (None, 128, 128, 1)  0           ['input_1[0][0]']                \n",
      "                                                                                                  \n",
      " conv2d (Conv2D)                (None, 128, 128, 16  160         ['lambda[0][0]']                 \n",
      "                                )                                                                 \n",
      "                                                                                                  \n",
      " dropout (Dropout)              (None, 128, 128, 16  0           ['conv2d[0][0]']                 \n",
      "                                )                                                                 \n",
      "                                                                                                  \n",
      " conv2d_1 (Conv2D)              (None, 128, 128, 16  2320        ['dropout[0][0]']                \n",
      "                                )                                                                 \n",
      "                                                                                                  \n",
      " max_pooling2d (MaxPooling2D)   (None, 64, 64, 16)   0           ['conv2d_1[0][0]']               \n",
      "                                                                                                  \n",
      " conv2d_2 (Conv2D)              (None, 64, 64, 32)   4640        ['max_pooling2d[0][0]']          \n",
      "                                                                                                  \n",
      " dropout_1 (Dropout)            (None, 64, 64, 32)   0           ['conv2d_2[0][0]']               \n",
      "                                                                                                  \n",
      " conv2d_3 (Conv2D)              (None, 64, 64, 32)   9248        ['dropout_1[0][0]']              \n",
      "                                                                                                  \n",
      " max_pooling2d_1 (MaxPooling2D)  (None, 32, 32, 32)  0           ['conv2d_3[0][0]']               \n",
      "                                                                                                  \n",
      " conv2d_4 (Conv2D)              (None, 32, 32, 64)   18496       ['max_pooling2d_1[0][0]']        \n",
      "                                                                                                  \n",
      " dropout_2 (Dropout)            (None, 32, 32, 64)   0           ['conv2d_4[0][0]']               \n",
      "                                                                                                  \n",
      " conv2d_5 (Conv2D)              (None, 32, 32, 64)   36928       ['dropout_2[0][0]']              \n",
      "                                                                                                  \n",
      " max_pooling2d_2 (MaxPooling2D)  (None, 16, 16, 64)  0           ['conv2d_5[0][0]']               \n",
      "                                                                                                  \n",
      " conv2d_6 (Conv2D)              (None, 16, 16, 128)  73856       ['max_pooling2d_2[0][0]']        \n",
      "                                                                                                  \n",
      " dropout_3 (Dropout)            (None, 16, 16, 128)  0           ['conv2d_6[0][0]']               \n",
      "                                                                                                  \n",
      " conv2d_7 (Conv2D)              (None, 16, 16, 128)  147584      ['dropout_3[0][0]']              \n",
      "                                                                                                  \n",
      " max_pooling2d_3 (MaxPooling2D)  (None, 8, 8, 128)   0           ['conv2d_7[0][0]']               \n",
      "                                                                                                  \n",
      " conv2d_8 (Conv2D)              (None, 8, 8, 256)    295168      ['max_pooling2d_3[0][0]']        \n",
      "                                                                                                  \n",
      " dropout_4 (Dropout)            (None, 8, 8, 256)    0           ['conv2d_8[0][0]']               \n",
      "                                                                                                  \n",
      " conv2d_9 (Conv2D)              (None, 8, 8, 256)    590080      ['dropout_4[0][0]']              \n",
      "                                                                                                  \n",
      " conv2d_transpose (Conv2DTransp  (None, 16, 16, 128)  131200     ['conv2d_9[0][0]']               \n",
      " ose)                                                                                             \n",
      "                                                                                                  \n",
      " concatenate (Concatenate)      (None, 16, 16, 256)  0           ['conv2d_transpose[0][0]',       \n",
      "                                                                  'conv2d_7[0][0]']               \n",
      "                                                                                                  \n",
      " conv2d_10 (Conv2D)             (None, 16, 16, 128)  295040      ['concatenate[0][0]']            \n",
      "                                                                                                  \n",
      " dropout_5 (Dropout)            (None, 16, 16, 128)  0           ['conv2d_10[0][0]']              \n",
      "                                                                                                  \n",
      " conv2d_11 (Conv2D)             (None, 16, 16, 128)  147584      ['dropout_5[0][0]']              \n",
      "                                                                                                  \n",
      " conv2d_transpose_1 (Conv2DTran  (None, 32, 32, 64)  32832       ['conv2d_11[0][0]']              \n",
      " spose)                                                                                           \n",
      "                                                                                                  \n",
      " concatenate_1 (Concatenate)    (None, 32, 32, 128)  0           ['conv2d_transpose_1[0][0]',     \n",
      "                                                                  'conv2d_5[0][0]']               \n",
      "                                                                                                  \n",
      " conv2d_12 (Conv2D)             (None, 32, 32, 64)   73792       ['concatenate_1[0][0]']          \n",
      "                                                                                                  \n",
      " dropout_6 (Dropout)            (None, 32, 32, 64)   0           ['conv2d_12[0][0]']              \n",
      "                                                                                                  \n",
      " conv2d_13 (Conv2D)             (None, 32, 32, 64)   36928       ['dropout_6[0][0]']              \n",
      "                                                                                                  \n",
      " conv2d_transpose_2 (Conv2DTran  (None, 64, 64, 32)  8224        ['conv2d_13[0][0]']              \n",
      " spose)                                                                                           \n",
      "                                                                                                  \n",
      " concatenate_2 (Concatenate)    (None, 64, 64, 64)   0           ['conv2d_transpose_2[0][0]',     \n",
      "                                                                  'conv2d_3[0][0]']               \n",
      "                                                                                                  \n",
      " conv2d_14 (Conv2D)             (None, 64, 64, 32)   18464       ['concatenate_2[0][0]']          \n",
      "                                                                                                  \n",
      " dropout_7 (Dropout)            (None, 64, 64, 32)   0           ['conv2d_14[0][0]']              \n",
      "                                                                                                  \n"
     ]
    },
    {
     "name": "stdout",
     "output_type": "stream",
     "text": [
      " conv2d_15 (Conv2D)             (None, 64, 64, 32)   9248        ['dropout_7[0][0]']              \n",
      "                                                                                                  \n",
      " conv2d_transpose_3 (Conv2DTran  (None, 128, 128, 16  2064       ['conv2d_15[0][0]']              \n",
      " spose)                         )                                                                 \n",
      "                                                                                                  \n",
      " concatenate_3 (Concatenate)    (None, 128, 128, 32  0           ['conv2d_transpose_3[0][0]',     \n",
      "                                )                                 'conv2d_1[0][0]']               \n",
      "                                                                                                  \n",
      " conv2d_16 (Conv2D)             (None, 128, 128, 16  4624        ['concatenate_3[0][0]']          \n",
      "                                )                                                                 \n",
      "                                                                                                  \n",
      " dropout_8 (Dropout)            (None, 128, 128, 16  0           ['conv2d_16[0][0]']              \n",
      "                                )                                                                 \n",
      "                                                                                                  \n",
      " conv2d_17 (Conv2D)             (None, 128, 128, 16  2320        ['dropout_8[0][0]']              \n",
      "                                )                                                                 \n",
      "                                                                                                  \n",
      " conv2d_18 (Conv2D)             (None, 128, 128, 1)  17          ['conv2d_17[0][0]']              \n",
      "                                                                                                  \n",
      "==================================================================================================\n",
      "Total params: 1,940,817\n",
      "Trainable params: 1,940,817\n",
      "Non-trainable params: 0\n",
      "__________________________________________________________________________________________________\n"
     ]
    }
   ],
   "source": [
    "# source: https://www.kaggle.com/keegil/keras-u-net-starter-lb-0-277\n",
    "\n",
    "\n",
    "inputs = Input((IMG_HEIGHT, IMG_WIDTH, IMG_CHANNELS))\n",
    "\n",
    "s = Lambda(lambda x: x / 255) (inputs)\n",
    "\n",
    "c1 = Conv2D(16, (3, 3), activation='elu', kernel_initializer='he_normal', padding='same') (s)\n",
    "c1 = Dropout(0.1) (c1)\n",
    "c1 = Conv2D(16, (3, 3), activation='elu', kernel_initializer='he_normal', padding='same') (c1)\n",
    "p1 = MaxPooling2D((2, 2)) (c1)\n",
    "\n",
    "c2 = Conv2D(32, (3, 3), activation='elu', kernel_initializer='he_normal', padding='same') (p1)\n",
    "c2 = Dropout(0.1) (c2)\n",
    "c2 = Conv2D(32, (3, 3), activation='elu', kernel_initializer='he_normal', padding='same') (c2)\n",
    "p2 = MaxPooling2D((2, 2)) (c2)\n",
    "\n",
    "c3 = Conv2D(64, (3, 3), activation='elu', kernel_initializer='he_normal', padding='same') (p2)\n",
    "c3 = Dropout(0.2) (c3)\n",
    "c3 = Conv2D(64, (3, 3), activation='elu', kernel_initializer='he_normal', padding='same') (c3)\n",
    "p3 = MaxPooling2D((2, 2)) (c3)\n",
    "\n",
    "c4 = Conv2D(128, (3, 3), activation='elu', kernel_initializer='he_normal', padding='same') (p3)\n",
    "c4 = Dropout(0.2) (c4)\n",
    "c4 = Conv2D(128, (3, 3), activation='elu', kernel_initializer='he_normal', padding='same') (c4)\n",
    "p4 = MaxPooling2D(pool_size=(2, 2)) (c4)\n",
    "\n",
    "c5 = Conv2D(256, (3, 3), activation='elu', kernel_initializer='he_normal', padding='same') (p4)\n",
    "c5 = Dropout(0.3) (c5)\n",
    "c5 = Conv2D(256, (3, 3), activation='elu', kernel_initializer='he_normal', padding='same') (c5)\n",
    "\n",
    "u6 = Conv2DTranspose(128, (2, 2), strides=(2, 2), padding='same') (c5)\n",
    "u6 = concatenate([u6, c4])\n",
    "c6 = Conv2D(128, (3, 3), activation='elu', kernel_initializer='he_normal', padding='same') (u6)\n",
    "c6 = Dropout(0.2) (c6)\n",
    "c6 = Conv2D(128, (3, 3), activation='elu', kernel_initializer='he_normal', padding='same') (c6)\n",
    "\n",
    "u7 = Conv2DTranspose(64, (2, 2), strides=(2, 2), padding='same') (c6)\n",
    "u7 = concatenate([u7, c3])\n",
    "c7 = Conv2D(64, (3, 3), activation='elu', kernel_initializer='he_normal', padding='same') (u7)\n",
    "c7 = Dropout(0.2) (c7)\n",
    "c7 = Conv2D(64, (3, 3), activation='elu', kernel_initializer='he_normal', padding='same') (c7)\n",
    "\n",
    "u8 = Conv2DTranspose(32, (2, 2), strides=(2, 2), padding='same') (c7)\n",
    "u8 = concatenate([u8, c2])\n",
    "c8 = Conv2D(32, (3, 3), activation='elu', kernel_initializer='he_normal', padding='same') (u8)\n",
    "c8 = Dropout(0.1) (c8)\n",
    "c8 = Conv2D(32, (3, 3), activation='elu', kernel_initializer='he_normal', padding='same') (c8)\n",
    "\n",
    "u9 = Conv2DTranspose(16, (2, 2), strides=(2, 2), padding='same') (c8)\n",
    "u9 = concatenate([u9, c1], axis=3)\n",
    "c9 = Conv2D(16, (3, 3), activation='elu', kernel_initializer='he_normal', padding='same') (u9)\n",
    "c9 = Dropout(0.1) (c9)\n",
    "c9 = Conv2D(16, (3, 3), activation='elu', kernel_initializer='he_normal', padding='same') (c9)\n",
    "\n",
    "outputs = Conv2D(1, (1, 1), activation='sigmoid') (c9)\n",
    "\n",
    "model = Model(inputs=[inputs], outputs=[outputs])\n",
    "\n",
    "model.compile(optimizer='adam', loss='binary_crossentropy')\n",
    "\n",
    "model.summary()"
   ]
  },
  {
   "cell_type": "markdown",
   "metadata": {},
   "source": [
    "## Train the Model"
   ]
  },
  {
   "cell_type": "markdown",
   "metadata": {},
   "source": [
    "We will let Keras automatically create a 10% validation set during training. I haven't specified a metric, but for segmentation problems I've often seen custom metrics like IOU or dice coef be used."
   ]
  },
  {
   "cell_type": "code",
   "execution_count": 28,
   "metadata": {
    "_kg_hide-output": false,
    "scrolled": true
   },
   "outputs": [
    {
     "name": "stdout",
     "output_type": "stream",
     "text": [
      "Epoch 1/50\n",
      "67/67 [==============================] - ETA: 0s - loss: 0.0924\n",
      "Epoch 1: val_loss improved from inf to 0.03795, saving model to model.h5\n",
      "67/67 [==============================] - 118s 2s/step - loss: 0.0924 - val_loss: 0.0379\n",
      "Epoch 2/50\n",
      "67/67 [==============================] - ETA: 0s - loss: 0.0366\n",
      "Epoch 2: val_loss improved from 0.03795 to 0.02994, saving model to model.h5\n",
      "67/67 [==============================] - 136s 2s/step - loss: 0.0366 - val_loss: 0.0299\n",
      "Epoch 3/50\n",
      "67/67 [==============================] - ETA: 0s - loss: 0.0312\n",
      "Epoch 3: val_loss improved from 0.02994 to 0.02710, saving model to model.h5\n",
      "67/67 [==============================] - 99s 1s/step - loss: 0.0312 - val_loss: 0.0271\n",
      "Epoch 4/50\n",
      "67/67 [==============================] - ETA: 0s - loss: 0.0281\n",
      "Epoch 4: val_loss improved from 0.02710 to 0.02402, saving model to model.h5\n",
      "67/67 [==============================] - 95s 1s/step - loss: 0.0281 - val_loss: 0.0240\n",
      "Epoch 5/50\n",
      "67/67 [==============================] - ETA: 0s - loss: 0.0260\n",
      "Epoch 5: val_loss improved from 0.02402 to 0.02270, saving model to model.h5\n",
      "67/67 [==============================] - 113s 2s/step - loss: 0.0260 - val_loss: 0.0227\n",
      "Epoch 6/50\n",
      "67/67 [==============================] - ETA: 0s - loss: 0.0250\n",
      "Epoch 6: val_loss improved from 0.02270 to 0.02141, saving model to model.h5\n",
      "67/67 [==============================] - 111s 2s/step - loss: 0.0250 - val_loss: 0.0214\n",
      "Epoch 7/50\n",
      "67/67 [==============================] - ETA: 0s - loss: 0.0234\n",
      "Epoch 7: val_loss improved from 0.02141 to 0.02041, saving model to model.h5\n",
      "67/67 [==============================] - 93s 1s/step - loss: 0.0234 - val_loss: 0.0204\n",
      "Epoch 8/50\n",
      "67/67 [==============================] - ETA: 0s - loss: 0.0224\n",
      "Epoch 8: val_loss improved from 0.02041 to 0.01970, saving model to model.h5\n",
      "67/67 [==============================] - 110s 2s/step - loss: 0.0224 - val_loss: 0.0197\n",
      "Epoch 9/50\n",
      "67/67 [==============================] - ETA: 0s - loss: 0.0216\n",
      "Epoch 9: val_loss improved from 0.01970 to 0.01910, saving model to model.h5\n",
      "67/67 [==============================] - 109s 2s/step - loss: 0.0216 - val_loss: 0.0191\n",
      "Epoch 10/50\n",
      "67/67 [==============================] - ETA: 0s - loss: 0.0209\n",
      "Epoch 10: val_loss improved from 0.01910 to 0.01857, saving model to model.h5\n",
      "67/67 [==============================] - 114s 2s/step - loss: 0.0209 - val_loss: 0.0186\n",
      "Epoch 11/50\n",
      "67/67 [==============================] - ETA: 0s - loss: 0.0203\n",
      "Epoch 11: val_loss improved from 0.01857 to 0.01817, saving model to model.h5\n",
      "67/67 [==============================] - 116s 2s/step - loss: 0.0203 - val_loss: 0.0182\n",
      "Epoch 12/50\n",
      "67/67 [==============================] - ETA: 0s - loss: 0.0199\n",
      "Epoch 12: val_loss improved from 0.01817 to 0.01780, saving model to model.h5\n",
      "67/67 [==============================] - 97s 1s/step - loss: 0.0199 - val_loss: 0.0178\n",
      "Epoch 13/50\n",
      "67/67 [==============================] - ETA: 0s - loss: 0.0193\n",
      "Epoch 13: val_loss improved from 0.01780 to 0.01711, saving model to model.h5\n",
      "67/67 [==============================] - 112s 2s/step - loss: 0.0193 - val_loss: 0.0171\n",
      "Epoch 14/50\n",
      "67/67 [==============================] - ETA: 0s - loss: 0.0188\n",
      "Epoch 14: val_loss did not improve from 0.01711\n",
      "67/67 [==============================] - 107s 2s/step - loss: 0.0188 - val_loss: 0.0179\n",
      "Epoch 15/50\n",
      "67/67 [==============================] - ETA: 0s - loss: 0.0184\n",
      "Epoch 15: val_loss did not improve from 0.01711\n",
      "67/67 [==============================] - 109s 2s/step - loss: 0.0184 - val_loss: 0.0171\n",
      "Epoch 16/50\n",
      "67/67 [==============================] - ETA: 0s - loss: 0.0180\n",
      "Epoch 16: val_loss did not improve from 0.01711\n",
      "67/67 [==============================] - 105s 2s/step - loss: 0.0180 - val_loss: 0.0179\n",
      "Epoch 17/50\n",
      "67/67 [==============================] - ETA: 0s - loss: 0.0176\n",
      "Epoch 17: val_loss did not improve from 0.01711\n",
      "67/67 [==============================] - 106s 2s/step - loss: 0.0176 - val_loss: 0.0205\n",
      "Epoch 18/50\n",
      "67/67 [==============================] - ETA: 0s - loss: 0.0172\n",
      "Epoch 18: val_loss improved from 0.01711 to 0.01541, saving model to model.h5\n",
      "67/67 [==============================] - 107s 2s/step - loss: 0.0172 - val_loss: 0.0154\n",
      "Epoch 19/50\n",
      "67/67 [==============================] - ETA: 0s - loss: 0.0170\n",
      "Epoch 19: val_loss did not improve from 0.01541\n",
      "67/67 [==============================] - 103s 2s/step - loss: 0.0170 - val_loss: 0.0165\n",
      "Epoch 20/50\n",
      "67/67 [==============================] - ETA: 0s - loss: 0.0165\n",
      "Epoch 20: val_loss did not improve from 0.01541\n",
      "67/67 [==============================] - 95s 1s/step - loss: 0.0165 - val_loss: 0.0191\n",
      "Epoch 21/50\n",
      "67/67 [==============================] - ETA: 0s - loss: 0.0166\n",
      "Epoch 21: val_loss improved from 0.01541 to 0.01533, saving model to model.h5\n",
      "67/67 [==============================] - 89s 1s/step - loss: 0.0166 - val_loss: 0.0153\n",
      "Epoch 22/50\n",
      "67/67 [==============================] - ETA: 0s - loss: 0.0163\n",
      "Epoch 22: val_loss did not improve from 0.01533\n",
      "67/67 [==============================] - 89s 1s/step - loss: 0.0163 - val_loss: 0.0165\n",
      "Epoch 23/50\n",
      "67/67 [==============================] - ETA: 0s - loss: 0.0157\n",
      "Epoch 23: val_loss did not improve from 0.01533\n",
      "67/67 [==============================] - 89s 1s/step - loss: 0.0157 - val_loss: 0.0165\n",
      "Epoch 24/50\n",
      "67/67 [==============================] - ETA: 0s - loss: 0.0152\n",
      "Epoch 24: val_loss did not improve from 0.01533\n",
      "67/67 [==============================] - 88s 1s/step - loss: 0.0152 - val_loss: 0.0172\n",
      "Epoch 25/50\n",
      "67/67 [==============================] - ETA: 0s - loss: 0.0150\n",
      "Epoch 25: val_loss did not improve from 0.01533\n",
      "67/67 [==============================] - 88s 1s/step - loss: 0.0150 - val_loss: 0.0167\n",
      "Epoch 26/50\n",
      "67/67 [==============================] - ETA: 0s - loss: 0.0147\n",
      "Epoch 26: val_loss did not improve from 0.01533\n",
      "67/67 [==============================] - 87s 1s/step - loss: 0.0147 - val_loss: 0.0154\n",
      "Epoch 26: early stopping\n"
     ]
    }
   ],
   "source": [
    "filepath = \"model.h5\"\n",
    "\n",
    "earlystopper = EarlyStopping(patience=5, verbose=1)\n",
    "\n",
    "checkpoint = ModelCheckpoint(filepath, monitor='val_loss', verbose=1, \n",
    "                             save_best_only=True, mode='min')\n",
    "\n",
    "callbacks_list = [earlystopper, checkpoint]\n",
    "\n",
    "history = model.fit(X_train, Y_train, validation_split=0.1, batch_size=16, epochs=50, \n",
    "                    callbacks=callbacks_list)"
   ]
  },
  {
   "cell_type": "markdown",
   "metadata": {},
   "source": [
    "## Make a Prediction"
   ]
  },
  {
   "cell_type": "code",
   "execution_count": 29,
   "metadata": {},
   "outputs": [
    {
     "name": "stdout",
     "output_type": "stream",
     "text": [
      "1/1 [==============================] - 0s 274ms/step\n"
     ]
    }
   ],
   "source": [
    "# Make a prediction\n",
    "\n",
    "# use the best epoch\n",
    "model.load_weights('model.h5')\n",
    "\n",
    "test_preds = model.predict(X_test)"
   ]
  },
  {
   "cell_type": "code",
   "execution_count": 30,
   "metadata": {},
   "outputs": [],
   "source": [
    "# Threshold the predictions\n",
    "\n",
    "preds_test_thresh = (test_preds >= 0.5).astype(np.uint8)"
   ]
  },
  {
   "cell_type": "code",
   "execution_count": 31,
   "metadata": {},
   "outputs": [
    {
     "data": {
      "text/plain": [
       "<matplotlib.image.AxesImage at 0x7f7424289fd0>"
      ]
     },
     "execution_count": 31,
     "metadata": {},
     "output_type": "execute_result"
    },
    {
     "data": {
      "image/png": "[encoded data removed]",
      "text/plain": [
       "<Figure size 432x288 with 1 Axes>"
      ]
     },
     "metadata": {
      "needs_background": "light"
     },
     "output_type": "display_data"
    }
   ],
   "source": [
    "# Display a thresholded mask\n",
    "\n",
    "test_img = preds_test_thresh[5, :, :, 0]\n",
    "\n",
    "plt.imshow(test_img, cmap='gray')"
   ]
  },
  {
   "cell_type": "markdown",
   "metadata": {},
   "source": [
    "## Inspect the Results"
   ]
  },
  {
   "cell_type": "markdown",
   "metadata": {},
   "source": [
    "Here we will display 3 test images, their true masks and the masks that the model predicted for those images."
   ]
  },
  {
   "cell_type": "code",
   "execution_count": 23,
   "metadata": {
    "_kg_hide-input": true,
    "scrolled": true
   },
   "outputs": [
    {
     "data": {
      "image/png": "[encoded data removed]",
      "text/plain": [
       "<Figure size 720x720 with 9 Axes>"
      ]
     },
     "metadata": {},
     "output_type": "display_data"
    }
   ],
   "source": [
    "# set up the canvas for the subplots\n",
    "plt.figure(figsize=(10,10))\n",
    "plt.axis('Off')\n",
    "\n",
    "# Our subplot will contain 3 rows and 3 columns\n",
    "# plt.subplot(nrows, ncols, plot_number)\n",
    "\n",
    "\n",
    "# == row 1 ==\n",
    "\n",
    "# image\n",
    "plt.subplot(3,3,1)\n",
    "test_image = X_test[1, :, :, 0]\n",
    "plt.imshow(test_image)\n",
    "plt.title('Test Image', fontsize=14)\n",
    "plt.axis('off')\n",
    "\n",
    "\n",
    "# true mask\n",
    "# plt.subplot(3,3,2)\n",
    "# mask_id = df_test.loc[1,'mask_id']\n",
    "# path_mask = '../input/bbbc005_v1_ground_truth/BBBC005_v1_ground_truth/' + mask_id\n",
    "# mask = imread(path_mask)\n",
    "# mask = resize(mask, (IMG_HEIGHT, IMG_WIDTH), mode='constant', preserve_range=True)\n",
    "# plt.imshow(mask, cmap='gray')\n",
    "# plt.title('True Mask', fontsize=14)\n",
    "# plt.axis('off')\n",
    "\n",
    "# predicted mask\n",
    "plt.subplot(3,3,3)\n",
    "test_mask = preds_test_thresh[1, :, :, 0]\n",
    "plt.imshow(test_mask, cmap='gray')\n",
    "plt.title('Pred Mask', fontsize=14)\n",
    "plt.axis('off')\n",
    "\n",
    "\n",
    "# == row 2 ==\n",
    "\n",
    "# image\n",
    "plt.subplot(3,3,4)\n",
    "test_image = X_test[2, :, :, 0]\n",
    "plt.imshow(test_image)\n",
    "plt.title('Test Image', fontsize=14)\n",
    "plt.axis('off')\n",
    "\n",
    "\n",
    "# true mask\n",
    "plt.subplot(3,3,5)\n",
    "mask_id = df_test.loc[2,'mask_id']\n",
    "path_mask = '../input/bbbc005_v1_ground_truth/BBBC005_v1_ground_truth/' + mask_id\n",
    "mask = imread(path_mask)\n",
    "mask = resize(mask, (IMG_HEIGHT, IMG_WIDTH), mode='constant', preserve_range=True)\n",
    "plt.imshow(mask, cmap='gray')\n",
    "plt.title('True Mask', fontsize=14)\n",
    "plt.axis('off')\n",
    "\n",
    "# predicted mask\n",
    "plt.subplot(3,3,6)\n",
    "test_mask = preds_test_thresh[2, :, :, 0]\n",
    "plt.imshow(test_mask, cmap='gray')\n",
    "plt.title('Pred Mask', fontsize=14)\n",
    "plt.axis('off')\n",
    "\n",
    "# == row 3 ==\n",
    "\n",
    "# image\n",
    "plt.subplot(3,3,7)\n",
    "test_image = X_test[3, :, :, 0]\n",
    "plt.imshow(test_image)\n",
    "plt.title('Test Image', fontsize=14)\n",
    "plt.axis('off')\n",
    "\n",
    "\n",
    "# true mask\n",
    "plt.subplot(3,3,8)\n",
    "mask_id = df_test.loc[3,'mask_id']\n",
    "path_mask = '../input/bbbc005_v1_ground_truth/BBBC005_v1_ground_truth/' + mask_id\n",
    "mask = imread(path_mask)\n",
    "mask = resize(mask, (IMG_HEIGHT, IMG_WIDTH), mode='constant', preserve_range=True)\n",
    "plt.imshow(mask, cmap='gray')\n",
    "plt.title('True Mask', fontsize=14)\n",
    "plt.axis('off')\n",
    "\n",
    "# predicted mask\n",
    "plt.subplot(3,3,9)\n",
    "test_mask = preds_test_thresh[3, :, :, 0]\n",
    "plt.imshow(test_mask, cmap='gray')\n",
    "plt.title('Pred Mask', fontsize=14)\n",
    "plt.axis('off')\n",
    "\n",
    "\n",
    "plt.tight_layout()\n",
    "plt.show()"
   ]
  },
  {
   "cell_type": "markdown",
   "metadata": {},
   "source": [
    "This notebook is based on this excellent kernel by Kjetil Åmdal-Sævik: [Keras U-Net starter - LB 0.277](https://www.kaggle.com/keegil/keras-u-net-starter-lb-0-277)<br> Many thanks to Kjetil for demystifying the segmentation deep learning workflow."
   ]
  }
 ],
 "metadata": {
  "kernelspec": {
   "display_name": "Python 3 (ipykernel)",
   "language": "python",
   "name": "python3"
  },
  "language_info": {
   "codemirror_mode": {
    "name": "ipython",
    "version": 3
   },
   "file_extension": ".py",
   "mimetype": "text/x-python",
   "name": "python",
   "nbconvert_exporter": "python",
   "pygments_lexer": "ipython3",
   "version": "3.8.10"
  }
 },
 "nbformat": 4,
 "nbformat_minor": 1
}
